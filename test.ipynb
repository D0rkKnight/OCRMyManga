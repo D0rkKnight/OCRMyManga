{
 "cells": [
  {
   "cell_type": "code",
   "execution_count": 26,
   "metadata": {},
   "outputs": [
    {
     "ename": "KeyboardInterrupt",
     "evalue": "",
     "output_type": "error",
     "traceback": [
      "\u001b[1;31m---------------------------------------------------------------------------\u001b[0m",
      "\u001b[1;31mKeyboardInterrupt\u001b[0m                         Traceback (most recent call last)",
      "Cell \u001b[1;32mIn[26], line 1\u001b[0m\n\u001b[1;32m----> 1\u001b[0m \u001b[39mimport\u001b[39;00m \u001b[39mjson\u001b[39;00m\n\u001b[0;32m      2\u001b[0m \u001b[39mfrom\u001b[39;00m \u001b[39mPIL\u001b[39;00m \u001b[39mimport\u001b[39;00m Image, ImageDraw\n\u001b[0;32m      3\u001b[0m \u001b[39mfrom\u001b[39;00m \u001b[39mio\u001b[39;00m \u001b[39mimport\u001b[39;00m BytesIO\n",
      "Cell \u001b[1;32mIn[26], line 1\u001b[0m\n\u001b[1;32m----> 1\u001b[0m \u001b[39mimport\u001b[39;00m \u001b[39mjson\u001b[39;00m\n\u001b[0;32m      2\u001b[0m \u001b[39mfrom\u001b[39;00m \u001b[39mPIL\u001b[39;00m \u001b[39mimport\u001b[39;00m Image, ImageDraw\n\u001b[0;32m      3\u001b[0m \u001b[39mfrom\u001b[39;00m \u001b[39mio\u001b[39;00m \u001b[39mimport\u001b[39;00m BytesIO\n",
      "File \u001b[1;32m_pydevd_bundle/pydevd_cython.pyx:1457\u001b[0m, in \u001b[0;36m_pydevd_bundle.pydevd_cython.SafeCallWrapper.__call__\u001b[1;34m()\u001b[0m\n",
      "File \u001b[1;32m_pydevd_bundle/pydevd_cython.pyx:701\u001b[0m, in \u001b[0;36m_pydevd_bundle.pydevd_cython.PyDBFrame.trace_dispatch\u001b[1;34m()\u001b[0m\n",
      "File \u001b[1;32m_pydevd_bundle/pydevd_cython.pyx:1152\u001b[0m, in \u001b[0;36m_pydevd_bundle.pydevd_cython.PyDBFrame.trace_dispatch\u001b[1;34m()\u001b[0m\n",
      "File \u001b[1;32m_pydevd_bundle/pydevd_cython.pyx:1135\u001b[0m, in \u001b[0;36m_pydevd_bundle.pydevd_cython.PyDBFrame.trace_dispatch\u001b[1;34m()\u001b[0m\n",
      "File \u001b[1;32m_pydevd_bundle/pydevd_cython.pyx:312\u001b[0m, in \u001b[0;36m_pydevd_bundle.pydevd_cython.PyDBFrame.do_wait_suspend\u001b[1;34m()\u001b[0m\n",
      "File \u001b[1;32mc:\\Users\\shouh\\OneDrive\\Documents\\GitHub\\OCRMyManga\\env\\lib\\site-packages\\debugpy\\_vendored\\pydevd\\pydevd.py:2070\u001b[0m, in \u001b[0;36mPyDB.do_wait_suspend\u001b[1;34m(self, thread, frame, event, arg, exception_type)\u001b[0m\n\u001b[0;32m   2067\u001b[0m             from_this_thread\u001b[39m.\u001b[39mappend(frame_custom_thread_id)\n\u001b[0;32m   2069\u001b[0m     \u001b[39mwith\u001b[39;00m \u001b[39mself\u001b[39m\u001b[39m.\u001b[39m_threads_suspended_single_notification\u001b[39m.\u001b[39mnotify_thread_suspended(thread_id, thread, stop_reason):\n\u001b[1;32m-> 2070\u001b[0m         keep_suspended \u001b[39m=\u001b[39m \u001b[39mself\u001b[39;49m\u001b[39m.\u001b[39;49m_do_wait_suspend(thread, frame, event, arg, suspend_type, from_this_thread, frames_tracker)\n\u001b[0;32m   2072\u001b[0m frames_list \u001b[39m=\u001b[39m \u001b[39mNone\u001b[39;00m\n\u001b[0;32m   2074\u001b[0m \u001b[39mif\u001b[39;00m keep_suspended:\n\u001b[0;32m   2075\u001b[0m     \u001b[39m# This means that we should pause again after a set next statement.\u001b[39;00m\n",
      "File \u001b[1;32mc:\\Users\\shouh\\OneDrive\\Documents\\GitHub\\OCRMyManga\\env\\lib\\site-packages\\debugpy\\_vendored\\pydevd\\pydevd.py:2106\u001b[0m, in \u001b[0;36mPyDB._do_wait_suspend\u001b[1;34m(self, thread, frame, event, arg, suspend_type, from_this_thread, frames_tracker)\u001b[0m\n\u001b[0;32m   2103\u001b[0m         \u001b[39mself\u001b[39m\u001b[39m.\u001b[39m_call_input_hook()\n\u001b[0;32m   2105\u001b[0m     \u001b[39mself\u001b[39m\u001b[39m.\u001b[39mprocess_internal_commands()\n\u001b[1;32m-> 2106\u001b[0m     time\u001b[39m.\u001b[39;49msleep(\u001b[39m0.01\u001b[39;49m)\n\u001b[0;32m   2108\u001b[0m \u001b[39mself\u001b[39m\u001b[39m.\u001b[39mcancel_async_evaluation(get_current_thread_id(thread), \u001b[39mstr\u001b[39m(\u001b[39mid\u001b[39m(frame)))\n\u001b[0;32m   2110\u001b[0m \u001b[39m# process any stepping instructions\u001b[39;00m\n",
      "\u001b[1;31mKeyboardInterrupt\u001b[0m: "
     ]
    }
   ],
   "source": [
    "import json\n",
    "from PIL import Image, ImageDraw\n",
    "from io import BytesIO\n",
    "from reportlab.pdfgen import canvas\n",
    "from PyPDF2 import PdfFileMerger\n",
    "\n",
    "# Load JSON data\n",
    "with open('ocr.json', 'r') as f:\n",
    "    data = json.load(f)\n",
    "\n",
    "# Load image\n",
    "img = Image.open('resources/wakeupcat.jpg')\n",
    "\n",
    "# Create in-memory PDF file\n",
    "pdf_buffer = BytesIO()\n",
    "can = canvas.Canvas(pdf_buffer)\n",
    "draw = ImageDraw.Draw(img)\n",
    "\n",
    "# Also throw the image onto the canvas\n",
    "bytes = BytesIO()\n",
    "img.save(bytes, format='JPEG')\n",
    "can.drawImage(bytes, 0, 0)\n",
    "\n",
    "# Draw text on image and PDF\n",
    "for annotation in data['text_annotations']:\n",
    "    description = annotation['description']\n",
    "    poly = annotation['bounding_poly']['vertices']\n",
    "    coords = [(p['x'], img.size[1]-p['y']) for p in poly]\n",
    "    draw.polygon(coords, outline=(255, 0, 0))\n",
    "    can.drawString(coords[0][0], coords[0][1], description)\n",
    "\n",
    "# Save PDF file\n",
    "can.save()\n",
    "pdf_buffer.seek(0)\n",
    "\n",
    "# Merge PDF files\n",
    "pdf_merger = PdfFileMerger()\n",
    "pdf_merger.append(pdf_buffer)\n",
    "pdf_merger.write('output.pdf')\n",
    "pdf_merger.close()\n"
   ]
  },
  {
   "cell_type": "code",
   "execution_count": 19,
   "metadata": {},
   "outputs": [
    {
     "ename": "TypeError",
     "evalue": "write() argument must be str, not bytes",
     "output_type": "error",
     "traceback": [
      "\u001b[1;31m---------------------------------------------------------------------------\u001b[0m",
      "\u001b[1;31mTypeError\u001b[0m                                 Traceback (most recent call last)",
      "Cell \u001b[1;32mIn[19], line 7\u001b[0m\n\u001b[0;32m      4\u001b[0m pdf \u001b[39m=\u001b[39m canvas\u001b[39m.\u001b[39mCanvas(f)\n\u001b[0;32m      6\u001b[0m draw \u001b[39m=\u001b[39m ImageDraw\u001b[39m.\u001b[39mDraw(img)\n\u001b[1;32m----> 7\u001b[0m pdf\u001b[39m.\u001b[39;49msave()\n",
      "File \u001b[1;32mc:\\Users\\shouh\\OneDrive\\Documents\\GitHub\\OCRMyManga\\env\\lib\\site-packages\\reportlab\\pdfgen\\canvas.py:1280\u001b[0m, in \u001b[0;36mCanvas.save\u001b[1;34m(self)\u001b[0m\n\u001b[0;32m   1276\u001b[0m \u001b[39m\u001b[39m\u001b[39m\"\"\"Saves and close the PDF document in the file.\u001b[39;00m\n\u001b[0;32m   1277\u001b[0m \u001b[39m   If there is current data a ShowPage is executed automatically.\u001b[39;00m\n\u001b[0;32m   1278\u001b[0m \u001b[39m   After this operation the canvas must not be used further.\"\"\"\u001b[39;00m\n\u001b[0;32m   1279\u001b[0m \u001b[39mif\u001b[39;00m \u001b[39mlen\u001b[39m(\u001b[39mself\u001b[39m\u001b[39m.\u001b[39m_code): \u001b[39mself\u001b[39m\u001b[39m.\u001b[39mshowPage()\n\u001b[1;32m-> 1280\u001b[0m \u001b[39mself\u001b[39;49m\u001b[39m.\u001b[39;49m_doc\u001b[39m.\u001b[39;49mSaveToFile(\u001b[39mself\u001b[39;49m\u001b[39m.\u001b[39;49m_filename, \u001b[39mself\u001b[39;49m)\n",
      "File \u001b[1;32mc:\\Users\\shouh\\OneDrive\\Documents\\GitHub\\OCRMyManga\\env\\lib\\site-packages\\reportlab\\pdfbase\\pdfdoc.py:215\u001b[0m, in \u001b[0;36mPDFDocument.SaveToFile\u001b[1;34m(self, filename, canvas)\u001b[0m\n\u001b[0;32m    213\u001b[0m \u001b[39mif\u001b[39;00m isUnicode(data):\n\u001b[0;32m    214\u001b[0m     data \u001b[39m=\u001b[39m data\u001b[39m.\u001b[39mencode(\u001b[39m'\u001b[39m\u001b[39mlatin1\u001b[39m\u001b[39m'\u001b[39m)\n\u001b[1;32m--> 215\u001b[0m f\u001b[39m.\u001b[39;49mwrite(data)\n\u001b[0;32m    216\u001b[0m \u001b[39mif\u001b[39;00m myfile:\n\u001b[0;32m    217\u001b[0m     f\u001b[39m.\u001b[39mclose()\n",
      "\u001b[1;31mTypeError\u001b[0m: write() argument must be str, not bytes"
     ]
    }
   ],
   "source": [
    "# Open pdf file and draw image to it\n",
    "f = open('output.pdf', 'w')\n",
    "\n",
    "pdf = canvas.Canvas(f)\n",
    "\n",
    "draw = ImageDraw.Draw(img)\n",
    "pdf.save()"
   ]
  }
 ],
 "metadata": {
  "kernelspec": {
   "display_name": "env",
   "language": "python",
   "name": "python3"
  },
  "language_info": {
   "codemirror_mode": {
    "name": "ipython",
    "version": 3
   },
   "file_extension": ".py",
   "mimetype": "text/x-python",
   "name": "python",
   "nbconvert_exporter": "python",
   "pygments_lexer": "ipython3",
   "version": "3.9.12"
  },
  "orig_nbformat": 4,
  "vscode": {
   "interpreter": {
    "hash": "20c87c16ad2f989e283c12dce504904bfbb68a0f67b3ab6684882787ff438783"
   }
  }
 },
 "nbformat": 4,
 "nbformat_minor": 2
}
