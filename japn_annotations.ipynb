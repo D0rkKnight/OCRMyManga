{
 "cells": [
  {
   "cell_type": "code",
   "execution_count": 4,
   "metadata": {},
   "outputs": [],
   "source": [
    "# Execution sandbox\n",
    "# Create a pdf with the img as background\n",
    "from PIL import Image, ImageDraw\n",
    "from io import BytesIO\n",
    "from reportlab.pdfgen import canvas\n",
    "from reportlab.lib.utils import ImageReader\n",
    "from PyPDF2 import PdfMerger\n",
    "\n",
    "import reportlab.rl_config\n",
    "reportlab.rl_config.warnOnMissingFontGlyphs = 0\n",
    "\n",
    "from reportlab.pdfbase import pdfmetrics\n",
    "from reportlab.pdfbase.cidfonts import UnicodeCIDFont\n",
    "pdfmetrics.registerFont(UnicodeCIDFont('HeiseiMin-W3'))\n",
    "\n",
    "# Create in-memory PDF files\n",
    "pdf_buffer = BytesIO()\n",
    "can = canvas.Canvas(pdf_buffer)\n",
    "can.setFont('HeiseiMin-W3', 16)\n",
    "\n",
    "\n",
    "\n",
    "# Test draw string\n",
    "can.drawString(100, 100, 'にほんごはいいです')\n",
    "\n",
    "# Save PDF file\n",
    "can.save()\n",
    "pdf_buffer.seek(0)\n",
    "\n",
    "# Merge PDF files\n",
    "pdf_merger = PdfMerger()\n",
    "pdf_merger.append(pdf_buffer)\n",
    "pdf_merger.write('out/doc_japn_output.pdf')\n",
    "pdf_merger.close()"
   ]
  },
  {
   "cell_type": "code",
   "execution_count": null,
   "metadata": {},
   "outputs": [],
   "source": []
  }
 ],
 "metadata": {
  "kernelspec": {
   "display_name": "env",
   "language": "python",
   "name": "python3"
  },
  "language_info": {
   "codemirror_mode": {
    "name": "ipython",
    "version": 3
   },
   "file_extension": ".py",
   "mimetype": "text/x-python",
   "name": "python",
   "nbconvert_exporter": "python",
   "pygments_lexer": "ipython3",
   "version": "3.9.12"
  },
  "orig_nbformat": 4,
  "vscode": {
   "interpreter": {
    "hash": "20c87c16ad2f989e283c12dce504904bfbb68a0f67b3ab6684882787ff438783"
   }
  }
 },
 "nbformat": 4,
 "nbformat_minor": 2
}
